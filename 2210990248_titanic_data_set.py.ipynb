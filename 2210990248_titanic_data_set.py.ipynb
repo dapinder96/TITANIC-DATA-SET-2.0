{
 "cells": [
  {
   "cell_type": "code",
   "execution_count": 2,
   "id": "a1205365-87a8-4c28-b302-4c2b1843ee3f",
   "metadata": {},
   "outputs": [],
   "source": [
    "import numpy as np\n",
    "import pandas as pd\n",
    "from sklearn.model_selection import train_test_split"
   ]
  },
  {
   "cell_type": "code",
   "execution_count": 3,
   "id": "1c748d77-0b16-43a8-b057-7485205992aa",
   "metadata": {},
   "outputs": [],
   "source": [
    "df=pd.read_csv(\"titanic_dataset.csv\")\n",
    "df['Age']=df['Age'].fillna(df['Age'].mean())\n",
    "df['Embarked']=df['Embarked'].fillna(\"S\")\n",
    "df[\"Male\"]=pd.get_dummies(df['Sex'])[\"male\"]\n",
    "df[\"Male\"]=df[\"Male\"].map({True:0,False:1})\n",
    "df[\"Embarked\"]=df[\"Embarked\"].map({\"S\":0,\"C\":1,\"Q\":2})\n",
    "df= df.drop(columns=\"Sex\")\n",
    "df['Age'] = df[\"Age\"].astype('int64')\n",
    "df['Fare'] = df[\"Fare\"].astype('int64')\n",
    "df= df.drop(columns=[\"Name\",\"Cabin\",\"Ticket\",\"PassengerId\"])\n",
    "X= df.drop(columns=\"Survived\")\n",
    "Y=df[\"Survived\"]\n",
    "X1,X2,Y1,Y2 = train_test_split(X,Y,test_size=0.2)"
   ]
  },
  {
   "cell_type": "code",
   "execution_count": 7,
   "id": "89cba1e1-5e43-4565-a0da-f782260832f5",
   "metadata": {},
   "outputs": [
    {
     "name": "stdout",
     "output_type": "stream",
     "text": [
      "0.8117977528089888\n",
      "0.7932960893854749\n",
      "0.6839887640449438\n",
      "0.6759776536312849\n",
      "0.9691011235955056\n",
      "0.7821229050279329\n"
     ]
    }
   ],
   "source": [
    "from sklearn.linear_model import LogisticRegression\n",
    "from sklearn.svm import SVC\n",
    "from sklearn.tree import DecisionTreeClassifier\n",
    "\n",
    "# Apply logistic regression and print scores\n",
    "lr = LogisticRegression()\n",
    "lr.fit(X1,Y1)\n",
    "print(lr.score(X1,Y1))\n",
    "print(lr.score(X2,Y2))\n",
    "\n",
    "# Apply SVM and print scores\n",
    "svm = SVC()\n",
    "svm.fit(X1,Y1)\n",
    "print(svm.score(X1,Y1))\n",
    "print(svm.score(X2,Y2))\n",
    "\n",
    "DTC = DecisionTreeClassifier(random_state = 42)\n",
    "DTC.fit(X1,Y1)\n",
    "print(DTC.score(X1,Y1))\n",
    "print(DTC.score(X2,Y2))"
   ]
  },
  {
   "cell_type": "code",
   "execution_count": null,
   "id": "3c77e8f3-863a-4625-9df8-d19d4c1f56ec",
   "metadata": {},
   "outputs": [],
   "source": []
  }
 ],
 "metadata": {
  "kernelspec": {
   "display_name": "Python 3 (ipykernel)",
   "language": "python",
   "name": "python3"
  },
  "language_info": {
   "codemirror_mode": {
    "name": "ipython",
    "version": 3
   },
   "file_extension": ".py",
   "mimetype": "text/x-python",
   "name": "python",
   "nbconvert_exporter": "python",
   "pygments_lexer": "ipython3",
   "version": "3.11.5"
  }
 },
 "nbformat": 4,
 "nbformat_minor": 5
}
